{
 "cells": [
  {
   "cell_type": "markdown",
   "metadata": {},
   "source": [
    "# Project 2: Amazon and American Eagle Lingerie \n",
    "#### By: Hannah Dorney"
   ]
  },
  {
   "cell_type": "markdown",
   "metadata": {},
   "source": [
    "## Origin \n",
    "\n",
    "The ae_com.csv dataset originates from the American Eagle website's intimates section. The amazon_com.csv dataset originates from Amazon's intimates section. They both contain data about bras and panties that each website sells. Each has columns for product name, material requirements planning (MRP), price, product detail page URL, brand name, product category, retailer, description, rating, review count, style attributes, sizes, available sizes, and color. These datasets are important because they highlight where American Eagle and Amazon are succeeding in business as well as shedding light on what the consumer wants from a lingerie department. Data in the fashion industry can help retailers and designers know what the consumer wants and predict what the consumer will want. "
   ]
  },
  {
   "cell_type": "markdown",
   "metadata": {},
   "source": [
    "### Citation \n",
    "PromptCloud. (2017). *ae_com CSV File* (Version 1.0.0) [Data File]. Retrieved from https://www.kaggle.com/PromptCloudHQ/innerwear-data-from-victorias-secret-and-others?select=ae_com.csv.\n",
    "\n",
    "PromptCloud. (2017). *amazon_com CSV File* (Version 1.0.0) [Data File]. Retrieved from https://www.kaggle.com/PromptCloudHQ/innerwear-data-from-victorias-secret-and-others?select=amazon_com.csv."
   ]
  },
  {
   "cell_type": "markdown",
   "metadata": {},
   "source": [
    "## Load and Clean Data"
   ]
  },
  {
   "cell_type": "code",
   "execution_count": 597,
   "metadata": {},
   "outputs": [],
   "source": [
    "# These lines import the Numpy and Datascience modules.\n",
    "import numpy as np\n",
    "import pandas as pd\n",
    "#from datascience import *\n",
    "\n",
    "# These lines do some fancy plotting magic.\n",
    "import matplotlib\n",
    "%matplotlib inline\n",
    "import matplotlib.pyplot as plt\n",
    "plt.style.use('fivethirtyeight')\n",
    "import warnings\n",
    "warnings.simplefilter('ignore', FutureWarning)"
   ]
  },
  {
   "cell_type": "markdown",
   "metadata": {},
   "source": [
    "### Load Data and Investigate"
   ]
  },
  {
   "cell_type": "code",
   "execution_count": 598,
   "metadata": {},
   "outputs": [
    {
     "data": {
      "text/html": [
       "<div>\n",
       "<style scoped>\n",
       "    .dataframe tbody tr th:only-of-type {\n",
       "        vertical-align: middle;\n",
       "    }\n",
       "\n",
       "    .dataframe tbody tr th {\n",
       "        vertical-align: top;\n",
       "    }\n",
       "\n",
       "    .dataframe thead th {\n",
       "        text-align: right;\n",
       "    }\n",
       "</style>\n",
       "<table border=\"1\" class=\"dataframe\">\n",
       "  <thead>\n",
       "    <tr style=\"text-align: right;\">\n",
       "      <th></th>\n",
       "      <th>product_name</th>\n",
       "      <th>mrp</th>\n",
       "      <th>price</th>\n",
       "      <th>pdp_url</th>\n",
       "      <th>brand_name</th>\n",
       "      <th>product_category</th>\n",
       "      <th>retailer</th>\n",
       "      <th>description</th>\n",
       "      <th>rating</th>\n",
       "      <th>review_count</th>\n",
       "      <th>style_attributes</th>\n",
       "      <th>total_sizes</th>\n",
       "      <th>available_size</th>\n",
       "      <th>color</th>\n",
       "    </tr>\n",
       "  </thead>\n",
       "  <tbody>\n",
       "    <tr>\n",
       "      <td>0</td>\n",
       "      <td>Aerie Everyday Loves Lace Cheeky</td>\n",
       "      <td>12.50 USD</td>\n",
       "      <td>12.50 USD</td>\n",
       "      <td>https://www.ae.com/aerie-everyday-loves-lace-c...</td>\n",
       "      <td>AERIE</td>\n",
       "      <td>Cheekies</td>\n",
       "      <td>Ae US</td>\n",
       "      <td>Introducing Everyday Loves™: Made with love. E...</td>\n",
       "      <td>5.0</td>\n",
       "      <td>8.0</td>\n",
       "      <td>[\"Soft lace with the right amount of stretch\",...</td>\n",
       "      <td>[\"XS\", \"S\", \"M\", \"L\", \"XL\", \"XXL\"]</td>\n",
       "      <td>[\"XS\", \"S\", \"M\", \"L\", \"XL\", \"XXL\"]</td>\n",
       "      <td>Rugged Green</td>\n",
       "    </tr>\n",
       "    <tr>\n",
       "      <td>1</td>\n",
       "      <td>Aerie Everyday Loves Lace Cheeky</td>\n",
       "      <td>12.50 USD</td>\n",
       "      <td>12.50 USD</td>\n",
       "      <td>https://www.ae.com/aerie-everyday-loves-lace-c...</td>\n",
       "      <td>AERIE</td>\n",
       "      <td>Cheekies</td>\n",
       "      <td>Ae US</td>\n",
       "      <td>Introducing Everyday Loves™: Made with love. E...</td>\n",
       "      <td>5.0</td>\n",
       "      <td>8.0</td>\n",
       "      <td>[\"Soft lace with the right amount of stretch\",...</td>\n",
       "      <td>[\"XS\", \"S\", \"M\", \"L\", \"XL\", \"XXL\"]</td>\n",
       "      <td>[\"XS\", \"S\", \"M\", \"L\", \"XL\", \"XXL\"]</td>\n",
       "      <td>Natural Nude</td>\n",
       "    </tr>\n",
       "    <tr>\n",
       "      <td>2</td>\n",
       "      <td>Aerie Everyday Loves Lace Cheeky</td>\n",
       "      <td>12.50 USD</td>\n",
       "      <td>12.50 USD</td>\n",
       "      <td>https://www.ae.com/aerie-everyday-loves-lace-c...</td>\n",
       "      <td>AERIE</td>\n",
       "      <td>Cheekies</td>\n",
       "      <td>Ae US</td>\n",
       "      <td>Introducing Everyday Loves™: Made with love. E...</td>\n",
       "      <td>5.0</td>\n",
       "      <td>8.0</td>\n",
       "      <td>[\"Soft lace with the right amount of stretch\",...</td>\n",
       "      <td>[\"XS\", \"S\", \"M\", \"L\", \"XL\", \"XXL\"]</td>\n",
       "      <td>[\"XS\", \"S\", \"M\", \"L\", \"XL\", \"XXL\"]</td>\n",
       "      <td>True Black</td>\n",
       "    </tr>\n",
       "    <tr>\n",
       "      <td>3</td>\n",
       "      <td>Aerie Everyday Loves Lace Cheeky</td>\n",
       "      <td>12.50 USD</td>\n",
       "      <td>12.50 USD</td>\n",
       "      <td>https://www.ae.com/aerie-everyday-loves-lace-c...</td>\n",
       "      <td>AERIE</td>\n",
       "      <td>Cheekies</td>\n",
       "      <td>Ae US</td>\n",
       "      <td>Introducing Everyday Loves™: Made with love. E...</td>\n",
       "      <td>5.0</td>\n",
       "      <td>8.0</td>\n",
       "      <td>[\"Soft lace with the right amount of stretch\",...</td>\n",
       "      <td>[\"XS\", \"S\", \"M\", \"L\", \"XL\", \"XXL\"]</td>\n",
       "      <td>[\"XS\", \"S\", \"M\", \"L\", \"XL\", \"XXL\"]</td>\n",
       "      <td>White</td>\n",
       "    </tr>\n",
       "    <tr>\n",
       "      <td>4</td>\n",
       "      <td>Aerie Everyday Loves Lace Cheeky</td>\n",
       "      <td>12.50 USD</td>\n",
       "      <td>12.50 USD</td>\n",
       "      <td>https://www.ae.com/aerie-everyday-loves-lace-c...</td>\n",
       "      <td>AERIE</td>\n",
       "      <td>Cheekies</td>\n",
       "      <td>Ae US</td>\n",
       "      <td>Introducing Everyday Loves™: Made with love. E...</td>\n",
       "      <td>5.0</td>\n",
       "      <td>8.0</td>\n",
       "      <td>[\"Soft lace with the right amount of stretch\",...</td>\n",
       "      <td>[\"XS\", \"S\", \"M\", \"L\", \"XL\", \"XXL\"]</td>\n",
       "      <td>[\"XS\", \"S\", \"M\", \"L\", \"XL\", \"XXL\"]</td>\n",
       "      <td>Royal Navy</td>\n",
       "    </tr>\n",
       "  </tbody>\n",
       "</table>\n",
       "</div>"
      ],
      "text/plain": [
       "                       product_name        mrp      price  \\\n",
       "0  Aerie Everyday Loves Lace Cheeky  12.50 USD  12.50 USD   \n",
       "1  Aerie Everyday Loves Lace Cheeky  12.50 USD  12.50 USD   \n",
       "2  Aerie Everyday Loves Lace Cheeky  12.50 USD  12.50 USD   \n",
       "3  Aerie Everyday Loves Lace Cheeky  12.50 USD  12.50 USD   \n",
       "4  Aerie Everyday Loves Lace Cheeky  12.50 USD  12.50 USD   \n",
       "\n",
       "                                             pdp_url brand_name  \\\n",
       "0  https://www.ae.com/aerie-everyday-loves-lace-c...      AERIE   \n",
       "1  https://www.ae.com/aerie-everyday-loves-lace-c...      AERIE   \n",
       "2  https://www.ae.com/aerie-everyday-loves-lace-c...      AERIE   \n",
       "3  https://www.ae.com/aerie-everyday-loves-lace-c...      AERIE   \n",
       "4  https://www.ae.com/aerie-everyday-loves-lace-c...      AERIE   \n",
       "\n",
       "  product_category retailer  \\\n",
       "0         Cheekies    Ae US   \n",
       "1         Cheekies    Ae US   \n",
       "2         Cheekies    Ae US   \n",
       "3         Cheekies    Ae US   \n",
       "4         Cheekies    Ae US   \n",
       "\n",
       "                                         description  rating  review_count  \\\n",
       "0  Introducing Everyday Loves™: Made with love. E...     5.0           8.0   \n",
       "1  Introducing Everyday Loves™: Made with love. E...     5.0           8.0   \n",
       "2  Introducing Everyday Loves™: Made with love. E...     5.0           8.0   \n",
       "3  Introducing Everyday Loves™: Made with love. E...     5.0           8.0   \n",
       "4  Introducing Everyday Loves™: Made with love. E...     5.0           8.0   \n",
       "\n",
       "                                    style_attributes  \\\n",
       "0  [\"Soft lace with the right amount of stretch\",...   \n",
       "1  [\"Soft lace with the right amount of stretch\",...   \n",
       "2  [\"Soft lace with the right amount of stretch\",...   \n",
       "3  [\"Soft lace with the right amount of stretch\",...   \n",
       "4  [\"Soft lace with the right amount of stretch\",...   \n",
       "\n",
       "                          total_sizes                      available_size  \\\n",
       "0  [\"XS\", \"S\", \"M\", \"L\", \"XL\", \"XXL\"]  [\"XS\", \"S\", \"M\", \"L\", \"XL\", \"XXL\"]   \n",
       "1  [\"XS\", \"S\", \"M\", \"L\", \"XL\", \"XXL\"]  [\"XS\", \"S\", \"M\", \"L\", \"XL\", \"XXL\"]   \n",
       "2  [\"XS\", \"S\", \"M\", \"L\", \"XL\", \"XXL\"]  [\"XS\", \"S\", \"M\", \"L\", \"XL\", \"XXL\"]   \n",
       "3  [\"XS\", \"S\", \"M\", \"L\", \"XL\", \"XXL\"]  [\"XS\", \"S\", \"M\", \"L\", \"XL\", \"XXL\"]   \n",
       "4  [\"XS\", \"S\", \"M\", \"L\", \"XL\", \"XXL\"]  [\"XS\", \"S\", \"M\", \"L\", \"XL\", \"XXL\"]   \n",
       "\n",
       "          color  \n",
       "0  Rugged Green  \n",
       "1  Natural Nude  \n",
       "2    True Black  \n",
       "3         White  \n",
       "4    Royal Navy  "
      ]
     },
     "execution_count": 598,
     "metadata": {},
     "output_type": "execute_result"
    }
   ],
   "source": [
    "# Load data \n",
    "ae_pd = pd.read_csv('ae_com.csv')\n",
    "ae_pd.head()"
   ]
  },
  {
   "cell_type": "code",
   "execution_count": 599,
   "metadata": {},
   "outputs": [
    {
     "data": {
      "text/html": [
       "<div>\n",
       "<style scoped>\n",
       "    .dataframe tbody tr th:only-of-type {\n",
       "        vertical-align: middle;\n",
       "    }\n",
       "\n",
       "    .dataframe tbody tr th {\n",
       "        vertical-align: top;\n",
       "    }\n",
       "\n",
       "    .dataframe thead th {\n",
       "        text-align: right;\n",
       "    }\n",
       "</style>\n",
       "<table border=\"1\" class=\"dataframe\">\n",
       "  <thead>\n",
       "    <tr style=\"text-align: right;\">\n",
       "      <th></th>\n",
       "      <th>product_name</th>\n",
       "      <th>mrp</th>\n",
       "      <th>price</th>\n",
       "      <th>pdp_url</th>\n",
       "      <th>brand_name</th>\n",
       "      <th>product_category</th>\n",
       "      <th>retailer</th>\n",
       "      <th>description</th>\n",
       "      <th>rating</th>\n",
       "      <th>review_count</th>\n",
       "      <th>style_attributes</th>\n",
       "      <th>total_sizes</th>\n",
       "      <th>available_size</th>\n",
       "      <th>color</th>\n",
       "    </tr>\n",
       "  </thead>\n",
       "  <tbody>\n",
       "    <tr>\n",
       "      <td>0</td>\n",
       "      <td>Calvin Klein Women's Sheer Marquisette Demi Un...</td>\n",
       "      <td>$36.00</td>\n",
       "      <td>$32.40</td>\n",
       "      <td>https://www.amazon.com/-/dp/B01NAVD98J?th=1&amp;psc=1</td>\n",
       "      <td>Calvin-Klein</td>\n",
       "      <td>Bras</td>\n",
       "      <td>Amazon US</td>\n",
       "      <td>An unlined demi cup bra featuring sheer, sexy ...</td>\n",
       "      <td>4.5</td>\n",
       "      <td>47</td>\n",
       "      <td>[ 72% Nylon, 28% Elastane , Imported , hook an...</td>\n",
       "      <td>30B , 30C , 30D , 30DD , 32A , 32B , 32C , 32D...</td>\n",
       "      <td>30B , 30C , 30D , 30DD , 32B , 32C , 32D , 32D...</td>\n",
       "      <td>Bare</td>\n",
       "    </tr>\n",
       "    <tr>\n",
       "      <td>1</td>\n",
       "      <td>Wacoal Embrace Lace Bikini Panty</td>\n",
       "      <td>$27.00</td>\n",
       "      <td>$27.00</td>\n",
       "      <td>https://www.amazon.com/-/dp/B0011YQFNK?th=1&amp;psc=1</td>\n",
       "      <td>Wacoal</td>\n",
       "      <td>Panties</td>\n",
       "      <td>Amazon US</td>\n",
       "      <td>Embrace lace bikini offers great fit and match...</td>\n",
       "      <td>4.4</td>\n",
       "      <td>91</td>\n",
       "      <td>[ 100% Nylon , Imported , Hand Wash , 1.2\" hig...</td>\n",
       "      <td>Small , Medium , Large , X-Large</td>\n",
       "      <td>Small , Medium , X-Large</td>\n",
       "      <td>Large</td>\n",
       "    </tr>\n",
       "    <tr>\n",
       "      <td>2</td>\n",
       "      <td>Wacoal Women's Slimline Seamless Minimizer Bra</td>\n",
       "      <td>$65.00</td>\n",
       "      <td>$65.00</td>\n",
       "      <td>https://www.amazon.com/-/dp/B000T3606Q?th=1&amp;psc=1</td>\n",
       "      <td>Wacoal</td>\n",
       "      <td>Bras</td>\n",
       "      <td>Amazon US</td>\n",
       "      <td>Seamless underwire minimizer bra gives great s...</td>\n",
       "      <td>4.3</td>\n",
       "      <td>298</td>\n",
       "      <td>[ Cups: 100% Polyester; Back: 71% Nylon, 29% S...</td>\n",
       "      <td>32DD , 32DDD , 34C , 34D , 34DD , 34DDD , 36C ...</td>\n",
       "      <td>32DD , 32DDD , 34C , 34D , 34DD , 34DDD , 36C ...</td>\n",
       "      <td>Black</td>\n",
       "    </tr>\n",
       "    <tr>\n",
       "      <td>3</td>\n",
       "      <td>Hanky Panky Womens Signature Lace Retro V-Kini</td>\n",
       "      <td>$36.00</td>\n",
       "      <td>$36.00</td>\n",
       "      <td>https://www.amazon.com/-/dp/B003Y6AX0Y?th=1&amp;psc=1</td>\n",
       "      <td>Hanky-Panky</td>\n",
       "      <td>Panties</td>\n",
       "      <td>Amazon US</td>\n",
       "      <td>All-day comfort describes this figure-flatteri...</td>\n",
       "      <td>4.4</td>\n",
       "      <td>46</td>\n",
       "      <td>[ Made in USA , All-day comfort describes this...</td>\n",
       "      <td>Small , Medium , Large , X-Large</td>\n",
       "      <td>Small , Medium , X-Large</td>\n",
       "      <td>Large</td>\n",
       "    </tr>\n",
       "    <tr>\n",
       "      <td>4</td>\n",
       "      <td>Wacoal Women's Red Carpet Strapless Bra</td>\n",
       "      <td>$65.00</td>\n",
       "      <td>$65.00</td>\n",
       "      <td>https://www.amazon.com/-/dp/B01CEBGQA0?th=1&amp;psc=1</td>\n",
       "      <td>Wacoal</td>\n",
       "      <td>Bras</td>\n",
       "      <td>Amazon US</td>\n",
       "      <td>Red Carpet full figure strapless fits great, s...</td>\n",
       "      <td>4.4</td>\n",
       "      <td>747</td>\n",
       "      <td>[ 91% Nylon, 9% Spandex , Imported , hook and ...</td>\n",
       "      <td>30D , 30DD , 30DDD , 30G , 32C , 32D , 32DD , ...</td>\n",
       "      <td>30D , 30DD , 30DDD , 30G , 32C , 32D , 32DD , ...</td>\n",
       "      <td>Pecan</td>\n",
       "    </tr>\n",
       "  </tbody>\n",
       "</table>\n",
       "</div>"
      ],
      "text/plain": [
       "                                        product_name      mrp    price  \\\n",
       "0  Calvin Klein Women's Sheer Marquisette Demi Un...  $36.00   $32.40    \n",
       "1                   Wacoal Embrace Lace Bikini Panty  $27.00   $27.00    \n",
       "2     Wacoal Women's Slimline Seamless Minimizer Bra  $65.00   $65.00    \n",
       "3     Hanky Panky Womens Signature Lace Retro V-Kini  $36.00   $36.00    \n",
       "4            Wacoal Women's Red Carpet Strapless Bra  $65.00   $65.00    \n",
       "\n",
       "                                             pdp_url    brand_name  \\\n",
       "0  https://www.amazon.com/-/dp/B01NAVD98J?th=1&psc=1  Calvin-Klein   \n",
       "1  https://www.amazon.com/-/dp/B0011YQFNK?th=1&psc=1        Wacoal   \n",
       "2  https://www.amazon.com/-/dp/B000T3606Q?th=1&psc=1        Wacoal   \n",
       "3  https://www.amazon.com/-/dp/B003Y6AX0Y?th=1&psc=1   Hanky-Panky   \n",
       "4  https://www.amazon.com/-/dp/B01CEBGQA0?th=1&psc=1        Wacoal   \n",
       "\n",
       "  product_category   retailer  \\\n",
       "0             Bras  Amazon US   \n",
       "1          Panties  Amazon US   \n",
       "2             Bras  Amazon US   \n",
       "3          Panties  Amazon US   \n",
       "4             Bras  Amazon US   \n",
       "\n",
       "                                         description  rating  review_count  \\\n",
       "0  An unlined demi cup bra featuring sheer, sexy ...     4.5            47   \n",
       "1  Embrace lace bikini offers great fit and match...     4.4            91   \n",
       "2  Seamless underwire minimizer bra gives great s...     4.3           298   \n",
       "3  All-day comfort describes this figure-flatteri...     4.4            46   \n",
       "4  Red Carpet full figure strapless fits great, s...     4.4           747   \n",
       "\n",
       "                                    style_attributes  \\\n",
       "0  [ 72% Nylon, 28% Elastane , Imported , hook an...   \n",
       "1  [ 100% Nylon , Imported , Hand Wash , 1.2\" hig...   \n",
       "2  [ Cups: 100% Polyester; Back: 71% Nylon, 29% S...   \n",
       "3  [ Made in USA , All-day comfort describes this...   \n",
       "4  [ 91% Nylon, 9% Spandex , Imported , hook and ...   \n",
       "\n",
       "                                         total_sizes  \\\n",
       "0  30B , 30C , 30D , 30DD , 32A , 32B , 32C , 32D...   \n",
       "1                   Small , Medium , Large , X-Large   \n",
       "2  32DD , 32DDD , 34C , 34D , 34DD , 34DDD , 36C ...   \n",
       "3                   Small , Medium , Large , X-Large   \n",
       "4  30D , 30DD , 30DDD , 30G , 32C , 32D , 32DD , ...   \n",
       "\n",
       "                                      available_size  color  \n",
       "0  30B , 30C , 30D , 30DD , 32B , 32C , 32D , 32D...   Bare  \n",
       "1                           Small , Medium , X-Large  Large  \n",
       "2  32DD , 32DDD , 34C , 34D , 34DD , 34DDD , 36C ...  Black  \n",
       "3                           Small , Medium , X-Large  Large  \n",
       "4  30D , 30DD , 30DDD , 30G , 32C , 32D , 32DD , ...  Pecan  "
      ]
     },
     "execution_count": 599,
     "metadata": {},
     "output_type": "execute_result"
    }
   ],
   "source": [
    "# Load in styles.csv\n",
    "amazon_pd  = pd.read_csv('amazon_com.csv')\n",
    "amazon_pd.head()"
   ]
  },
  {
   "cell_type": "code",
   "execution_count": 600,
   "metadata": {},
   "outputs": [
    {
     "name": "stdout",
     "output_type": "stream",
     "text": [
      "<class 'pandas.core.frame.DataFrame'>\n",
      "RangeIndex: 28328 entries, 0 to 28327\n",
      "Data columns (total 14 columns):\n",
      "product_name        28328 non-null object\n",
      "mrp                 28328 non-null object\n",
      "price               28328 non-null object\n",
      "pdp_url             28328 non-null object\n",
      "brand_name          28328 non-null object\n",
      "product_category    28328 non-null object\n",
      "retailer            28328 non-null object\n",
      "description         28328 non-null object\n",
      "rating              21125 non-null float64\n",
      "review_count        9590 non-null float64\n",
      "style_attributes    28328 non-null object\n",
      "total_sizes         28328 non-null object\n",
      "available_size      28328 non-null object\n",
      "color               28328 non-null object\n",
      "dtypes: float64(2), object(12)\n",
      "memory usage: 1.7+ MB\n"
     ]
    }
   ],
   "source": [
    "ae_pd.info()"
   ]
  },
  {
   "cell_type": "code",
   "execution_count": 601,
   "metadata": {},
   "outputs": [
    {
     "name": "stdout",
     "output_type": "stream",
     "text": [
      "<class 'pandas.core.frame.DataFrame'>\n",
      "RangeIndex: 31612 entries, 0 to 31611\n",
      "Data columns (total 14 columns):\n",
      "product_name        31612 non-null object\n",
      "mrp                 31612 non-null object\n",
      "price               31612 non-null object\n",
      "pdp_url             31612 non-null object\n",
      "brand_name          31612 non-null object\n",
      "product_category    31612 non-null object\n",
      "retailer            31612 non-null object\n",
      "description         31612 non-null object\n",
      "rating              31612 non-null float64\n",
      "review_count        31612 non-null int64\n",
      "style_attributes    31612 non-null object\n",
      "total_sizes         31612 non-null object\n",
      "available_size      31612 non-null object\n",
      "color               31612 non-null object\n",
      "dtypes: float64(1), int64(1), object(12)\n",
      "memory usage: 1.9+ MB\n"
     ]
    }
   ],
   "source": [
    "amazon_pd.info()"
   ]
  },
  {
   "cell_type": "code",
   "execution_count": 602,
   "metadata": {
    "scrolled": true
   },
   "outputs": [
    {
     "name": "stdout",
     "output_type": "stream",
     "text": [
      "Ae_com has 28328 rows and 14 columns in it!\n"
     ]
    }
   ],
   "source": [
    "# Check number of rows and columns \n",
    "rows = len(ae_pd)\n",
    "columns = len(ae_pd.columns)\n",
    "print(\"Ae_com has\", rows, \"rows and\", columns, \"columns in it!\")"
   ]
  },
  {
   "cell_type": "code",
   "execution_count": 603,
   "metadata": {
    "scrolled": true
   },
   "outputs": [
    {
     "name": "stdout",
     "output_type": "stream",
     "text": [
      "Amazon_com has 31612 rows and 14 columns in it!\n"
     ]
    }
   ],
   "source": [
    "# Check number of rows and columns \n",
    "rows = len(amazon_pd)\n",
    "columns = len(amazon_pd.columns)\n",
    "print(\"Amazon_com has\", rows, \"rows and\", columns, \"columns in it!\")"
   ]
  },
  {
   "cell_type": "markdown",
   "metadata": {},
   "source": [
    "### Clean Data"
   ]
  },
  {
   "cell_type": "code",
   "execution_count": 604,
   "metadata": {},
   "outputs": [],
   "source": [
    "# Drop unnecessary coloumns\n",
    "amazon_drop = amazon_pd.drop(columns=['mrp', 'pdp_url', \"description\", 'style_attributes', 'total_sizes', 'available_size'], axis=1)\n",
    "ae_drop = ae_pd.drop(columns=['mrp', 'pdp_url', \"description\", 'style_attributes', 'total_sizes', 'available_size'], axis=1)"
   ]
  },
  {
   "cell_type": "code",
   "execution_count": 605,
   "metadata": {},
   "outputs": [],
   "source": [
    "# Drop all null values\n",
    "ae_clean = ae_drop.dropna()\n",
    "amazon_clean = amazon_drop.dropna()"
   ]
  },
  {
   "cell_type": "code",
   "execution_count": 606,
   "metadata": {},
   "outputs": [
    {
     "name": "stderr",
     "output_type": "stream",
     "text": [
      "C:\\Users\\Hannah\\Anaconda3\\lib\\site-packages\\ipykernel_launcher.py:2: SettingWithCopyWarning: \n",
      "A value is trying to be set on a copy of a slice from a DataFrame.\n",
      "Try using .loc[row_indexer,col_indexer] = value instead\n",
      "\n",
      "See the caveats in the documentation: http://pandas.pydata.org/pandas-docs/stable/user_guide/indexing.html#returning-a-view-versus-a-copy\n",
      "  \n"
     ]
    }
   ],
   "source": [
    "# Change price to proper data type of float \n",
    "ae_clean['price'] = ae_clean['price'].str.rstrip(' USD').astype(float)\n",
    "\n",
    "amazon_clean['price'] = amazon_clean['price'].str.lstrip('$ ').astype(float)"
   ]
  },
  {
   "cell_type": "code",
   "execution_count": 607,
   "metadata": {},
   "outputs": [
    {
     "name": "stdout",
     "output_type": "stream",
     "text": [
      "<class 'pandas.core.frame.DataFrame'>\n",
      "Int64Index: 9590 entries, 0 to 28283\n",
      "Data columns (total 8 columns):\n",
      "product_name        9590 non-null object\n",
      "price               9590 non-null float64\n",
      "brand_name          9590 non-null object\n",
      "product_category    9590 non-null object\n",
      "retailer            9590 non-null object\n",
      "rating              9590 non-null float64\n",
      "review_count        9590 non-null float64\n",
      "color               9590 non-null object\n",
      "dtypes: float64(3), object(5)\n",
      "memory usage: 487.0+ KB\n"
     ]
    }
   ],
   "source": [
    "ae_clean.info()"
   ]
  },
  {
   "cell_type": "code",
   "execution_count": 608,
   "metadata": {},
   "outputs": [
    {
     "name": "stdout",
     "output_type": "stream",
     "text": [
      "<class 'pandas.core.frame.DataFrame'>\n",
      "Int64Index: 31612 entries, 0 to 31611\n",
      "Data columns (total 8 columns):\n",
      "product_name        31612 non-null object\n",
      "price               31612 non-null float64\n",
      "brand_name          31612 non-null object\n",
      "product_category    31612 non-null object\n",
      "retailer            31612 non-null object\n",
      "rating              31612 non-null float64\n",
      "review_count        31612 non-null int64\n",
      "color               31612 non-null object\n",
      "dtypes: float64(2), int64(1), object(5)\n",
      "memory usage: 1.6+ MB\n"
     ]
    }
   ],
   "source": [
    "amazon_clean.info()"
   ]
  },
  {
   "cell_type": "code",
   "execution_count": 609,
   "metadata": {},
   "outputs": [
    {
     "data": {
      "text/plain": [
       "(price           14.523632\n",
       " rating           4.326820\n",
       " review_count     7.862148\n",
       " dtype: float64, price           12.5\n",
       " rating           4.7\n",
       " review_count     3.0\n",
       " dtype: float64, price            5.858804\n",
       " rating           0.880650\n",
       " review_count    15.736077\n",
       " dtype: float64)"
      ]
     },
     "execution_count": 609,
     "metadata": {},
     "output_type": "execute_result"
    }
   ],
   "source": [
    "# American eagle statistics\n",
    "ae_mean = ae_clean.mean()\n",
    "ae_median = ae_clean.median()\n",
    "ae_std = ae_clean.std()\n",
    "ae_mean, ae_median, ae_std"
   ]
  },
  {
   "cell_type": "code",
   "execution_count": 610,
   "metadata": {},
   "outputs": [
    {
     "data": {
      "text/plain": [
       "(price            44.277683\n",
       " rating            4.262875\n",
       " review_count    464.485543\n",
       " dtype: float64, price            46.0\n",
       " rating            4.3\n",
       " review_count    380.0\n",
       " dtype: float64, price            15.402953\n",
       " rating            0.233377\n",
       " review_count    420.438162\n",
       " dtype: float64)"
      ]
     },
     "execution_count": 610,
     "metadata": {},
     "output_type": "execute_result"
    }
   ],
   "source": [
    "# Amazon statistics \n",
    "amazon_mean = amazon_clean.mean()\n",
    "amazon_median = amazon_clean.median()\n",
    "amazon_std = amazon_clean.std()\n",
    "amazon_mean, amazon_median, amazon_std"
   ]
  },
  {
   "cell_type": "markdown",
   "metadata": {},
   "source": [
    "## Analysis 1: Distribution of Price of Lingerie for American Eagle and Amazon "
   ]
  },
  {
   "cell_type": "markdown",
   "metadata": {},
   "source": [
    "### Analyze and Extract Data"
   ]
  },
  {
   "cell_type": "code",
   "execution_count": 745,
   "metadata": {},
   "outputs": [],
   "source": [
    "# Extract relevant data \n",
    "ae_hist = ae_clean[['product_name', 'price']]\n",
    "amazon_hist = amazon_clean[['product_name', 'price']]"
   ]
  },
  {
   "cell_type": "code",
   "execution_count": 768,
   "metadata": {},
   "outputs": [],
   "source": [
    "# Take sample for 99% confidence level for each\n",
    "ae_hist_sample = ae_hist.sample(6076)\n",
    "amazon_hist_sample = amazon_hist.sample(10875)"
   ]
  },
  {
   "cell_type": "code",
   "execution_count": 769,
   "metadata": {},
   "outputs": [
    {
     "name": "stdout",
     "output_type": "stream",
     "text": [
      "mean: 14.554200131665763 median: 12.5 std: 5.951984568056015\n",
      "mean: 44.35963126436768 median: 46.0 std: 15.441341616574478\n"
     ]
    }
   ],
   "source": [
    "def statistics (df, column_str):\n",
    "    '''Takes dataframe as argument \n",
    "    Calculates mean, median, std, min, and max of column \n",
    "    Returns all calculations'''\n",
    "    df_mean = df[column_str].mean()\n",
    "    df_median = df[column_str].median()\n",
    "    df_std = df[column_str].std()\n",
    "    df_min = df[column_str].min()\n",
    "    df_max = df[column_str].max()\n",
    "    print('mean:', df_mean, 'median:', df_median, 'std:', df_std)\n",
    "    return df_mean, df_median, df_std, df_min, df_max\n",
    "\n",
    "ae_mean, ae_median, ae_std, ae_min, ae_max = statistics(ae_hist_sample, 'price')\n",
    "amazon_mean, amazon_median, amazon_std, amazon_min, amazon_max = statistics(amazon_hist_sample, 'price')"
   ]
  },
  {
   "cell_type": "code",
   "execution_count": 776,
   "metadata": {},
   "outputs": [],
   "source": [
    "# max price\n",
    "max_price = max(ae_max, amazon_max)\n",
    "\n",
    "# min price \n",
    "min_price = min(ae_min, amazon_min)"
   ]
  },
  {
   "cell_type": "markdown",
   "metadata": {},
   "source": [
    "### Plot"
   ]
  },
  {
   "cell_type": "code",
   "execution_count": 771,
   "metadata": {},
   "outputs": [
    {
     "data": {
      "image/png": "[encoded data removed]",
      "text/plain": [
       "<Figure size 576x432 with 1 Axes>"
      ]
     },
     "metadata": {},
     "output_type": "display_data"
    }
   ],
   "source": [
    "# Set figure size \n",
    "plt.figure(figsize=(8,6))\n",
    "# Find bin sizes \n",
    "bins = np.arange(min_price, max_price + 1, 5)\n",
    "\n",
    "# Plot American Eagle\n",
    "plt.hist(ae_hist_sample['price'], bins, alpha=0.5, label='American Eagle', color='mediumblue')\n",
    "# Plot Amazon \n",
    "plt.hist(amazon_hist_sample['price'], bins, alpha=0.5, label='Amazon', color='darkorange')\n",
    "\n",
    "# Add title, legend, axis labels\n",
    "plt.legend()\n",
    "plt.title('Price Distribution for American Eagle and Amazon Lingerie')\n",
    "plt.xlabel('Price ($)')\n",
    "plt.xticks(np.arange(0, 80, 5))\n",
    "plt.ylabel('Frequency')\n",
    "plt.show()"
   ]
  },
  {
   "cell_type": "markdown",
   "metadata": {},
   "source": [
    "### Interpretation\n",
    "\n",
    "These overlaid graphs (with overlap shown by the brown) show the distribution of the prices for products for each website. The histogram for American Eagle is skewed to the right, meaning most of the data is on the left with a tail to the right. The plot shows that most American Eagle's lingerie's price is around \\\\$10-20 or data's mean price of $14.55. The histogram for Amazon is more normally distributed than the American Eagle histogram but slightly skewed to the left with a tail. Amazon's lingerie prices are more spread over the entire price range with jumps around \\\\$35-40, \\\\$45-50, and \\\\$60-70. The mean of the Amazon data was \\\\$44.36, which explains the data centering about \\\\$45."
   ]
  },
  {
   "cell_type": "markdown",
   "metadata": {},
   "source": [
    "## Analysis 2:  Distribution of Product Rating of Lingerie for American Eagle and Amazon"
   ]
  },
  {
   "cell_type": "markdown",
   "metadata": {},
   "source": [
    "### Analyze and Extract Relavent Data"
   ]
  },
  {
   "cell_type": "code",
   "execution_count": 777,
   "metadata": {
    "scrolled": true
   },
   "outputs": [],
   "source": [
    "# Extract relevent data \n",
    "ae_hist2 = ae_clean[['product_name', 'rating']]\n",
    "amazon_hist2 = amazon_clean[['product_name','rating']]"
   ]
  },
  {
   "cell_type": "code",
   "execution_count": 778,
   "metadata": {},
   "outputs": [],
   "source": [
    "# Take sample for 99% confidence level for each\n",
    "ae_hist2_sample = ae_hist2.sample(6076)\n",
    "amazon_hist2_sample = amazon_hist2.sample(10875)"
   ]
  },
  {
   "cell_type": "code",
   "execution_count": 779,
   "metadata": {},
   "outputs": [
    {
     "name": "stdout",
     "output_type": "stream",
     "text": [
      "mean: 4.326250822909833 median: 4.7 std: 0.8825032665273334\n",
      "mean: 4.261664367816348 median: 4.3 std: 0.23342770441721328\n"
     ]
    }
   ],
   "source": [
    "# Find statistics of the ratings\n",
    "ae_mean2, ae_median2, ae_std2, ae_min2, ae_max2 = statistics(ae_hist2_sample, 'rating')\n",
    "amazon_mean2, amazon_median2, amazon_std2, amazon_min2, amazon_max2 = statistics(amazon_hist2_sample, 'rating')"
   ]
  },
  {
   "cell_type": "code",
   "execution_count": 780,
   "metadata": {},
   "outputs": [],
   "source": [
    "# Add all the reviews for each rating \n",
    "ae_rating = ae_hist2_sample.groupby(['rating'], as_index=False).count()\n",
    "amazon_rating = amazon_hist2_sample.groupby(['rating'], as_index=False).count()"
   ]
  },
  {
   "cell_type": "markdown",
   "metadata": {},
   "source": [
    "### Plot"
   ]
  },
  {
   "cell_type": "code",
   "execution_count": 785,
   "metadata": {},
   "outputs": [
    {
     "data": {
      "image/png": "[encoded data removed]",
      "text/plain": [
       "<Figure size 576x432 with 1 Axes>"
      ]
     },
     "metadata": {},
     "output_type": "display_data"
    }
   ],
   "source": [
    "# Set figure size\n",
    "plt.figure(figsize=(8,6))\n",
    "# Make bins\n",
    "bins = np.arange(0, 5.5, .5)\n",
    "\n",
    "# Plot American Eagle\n",
    "plt.hist(ae_rating['rating'], bins, alpha=0.5, label='American Eagle', color='mediumblue')\n",
    "# Plot Amazon \n",
    "plt.hist(amazon_rating['rating'], bins, alpha=0.5, label='Amazon', color='darkorange')\n",
    "\n",
    "# Add title, legend, axis labels\n",
    "plt.legend()\n",
    "plt.title('Rating Distribution of American Eagle and Amazon Lingerie')\n",
    "plt.xlabel('Rating (Stars)')\n",
    "plt.xticks(np.arange(0, 5.5,.5))\n",
    "plt.ylabel('Frequency')\n",
    "plt.show()"
   ]
  },
  {
   "cell_type": "markdown",
   "metadata": {},
   "source": [
    "### Interpretation\n",
    "\n",
    "The overlaid histograms highlight that both, American Eagle and Amazon, have ratings skewed toward 5 stars. American Eagle has a more extensive spread through the ratings with spikes at 2.0-2.5, 3.5-4.0, and 4.5-5.0. Their mean of 4.3 stars and standard deviation of 0.88 illustrates a left-skewed histogram. Meaning customers rate their products around 4.3 stars. Amazon has a left-skewed graph with most of their ratings around their mean of 4.3; however, they have a standard deviation of 0.23. Meaning that their products are more densely rated around 4.3 than American Eagle, so their products are more often higher. "
   ]
  },
  {
   "cell_type": "markdown",
   "metadata": {},
   "source": [
    "## Importance and Stakeholders\n",
    "\n",
    "These datasets are essential to stakeholders lingerie retailers (American Eagle and Amazon) and lingerie customers. The retailers care about the analysis of the lingerie data because it can help them understand what is selling in their stores, what products people like, and what their competitors are doing. From analysis 1, retailers from Amazon should see that American Eagle sells many products for a lower price. From analysis 2, American Eagle should recognize that Amazon has better ratings for its products. Customers can use the previous data to identify where they want to shop. From analysis 1, they may think American Eagle is a better place to shop because they have cheaper products than Amazon; however, analysis 2 reveals that although most of American Eagle's product is around \\\\$14.55, their ratings are lower compared to Amazon. "
   ]
  },
  {
   "cell_type": "markdown",
   "metadata": {},
   "source": [
    "## Honor Code\n",
    "\n",
    "I have neither given nor received unauthorized assistance on this assignment.\n",
    "\n",
    "Hannah Dorney"
   ]
  }
 ],
 "metadata": {
  "kernelspec": {
   "display_name": "Python 3",
   "language": "python",
   "name": "python3"
  },
  "language_info": {
   "codemirror_mode": {
    "name": "ipython",
    "version": 3
   },
   "file_extension": ".py",
   "mimetype": "text/x-python",
   "name": "python",
   "nbconvert_exporter": "python",
   "pygments_lexer": "ipython3",
   "version": "3.7.4"
  }
 },
 "nbformat": 4,
 "nbformat_minor": 2
}
